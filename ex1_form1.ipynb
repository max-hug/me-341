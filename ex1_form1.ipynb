{
 "cells": [
  {
   "cell_type": "code",
   "execution_count": 1,
   "metadata": {
    "executionInfo": {
     "elapsed": 119,
     "status": "ok",
     "timestamp": 1673738591724,
     "user": {
      "displayName": "Vispi Karkaria",
      "userId": "14399196734797359309"
     },
     "user_tz": 360
    },
    "id": "8yyL6iLblJfK"
   },
   "outputs": [],
   "source": [
    "# Using python Nonlinear Programming Function scipy minimize to find the optimum solution of\n",
    "# the Minimum Weight Tubular Column Problem\n",
    "# Formulation 1\n",
    "\n",
    "import numpy as np\n",
    "from scipy.optimize import minimize\n",
    "import matplotlib.pyplot as plt"
   ]
  },
  {
   "cell_type": "code",
   "execution_count": 2,
   "metadata": {
    "executionInfo": {
     "elapsed": 124,
     "status": "ok",
     "timestamp": 1673741081757,
     "user": {
      "displayName": "Vispi Karkaria",
      "userId": "14399196734797359309"
     },
     "user_tz": 360
    },
    "id": "gAKm5vf7o-Bi"
   },
   "outputs": [],
   "source": [
    "# Defining function\n",
    "from numpy import pi\n",
    "\n",
    "def fun(x):\n",
    "  roh = 7833\n",
    "  l = 5\n",
    "  f = 2*roh*l*pi*x[0]*x[1]\n",
    "  return f"
   ]
  },
  {
   "cell_type": "code",
   "execution_count": 3,
   "metadata": {
    "executionInfo": {
     "elapsed": 106,
     "status": "ok",
     "timestamp": 1673738530647,
     "user": {
      "displayName": "Vispi Karkaria",
      "userId": "14399196734797359309"
     },
     "user_tz": 360
    },
    "id": "_0zLSYUMlZtK"
   },
   "outputs": [],
   "source": [
    "#Initial design values and lower and upper bounds\n",
    "x = np.array([0.01, 1]) # x =[t R]\n",
    "vlb = np.array([0.001, 0.01])\n",
    "vub = np.array([0.05,    0.1575])"
   ]
  },
  {
   "cell_type": "code",
   "execution_count": 4,
   "metadata": {
    "executionInfo": {
     "elapsed": 129,
     "status": "ok",
     "timestamp": 1673740939965,
     "user": {
      "displayName": "Vispi Karkaria",
      "userId": "14399196734797359309"
     },
     "user_tz": 360
    },
    "id": "dEFjLlPDulxC"
   },
   "outputs": [],
   "source": [
    "## Defining constraints\n",
    "cons = ({'type': 'ineq', 'fun': lambda x: 248e6 - 10e6 /(2*pi*x[0]*x[1]) },\n",
    "        {'type': 'ineq', 'fun': lambda x: pi**3*207e9*x[1]**3*x[0]/(4*5**2) - 10e6 })"
   ]
  },
  {
   "cell_type": "code",
   "execution_count": 5,
   "metadata": {
    "executionInfo": {
     "elapsed": 103,
     "status": "ok",
     "timestamp": 1673740473844,
     "user": {
      "displayName": "Vispi Karkaria",
      "userId": "14399196734797359309"
     },
     "user_tz": 360
    },
    "id": "UOvckUHHmHfQ"
   },
   "outputs": [],
   "source": [
    "#Initial design values\n",
    "x = (0.01, 0.1) # x =[t R]\n",
    "## Defining bounds\n",
    "bnds = ((0.001, 0.05),(0.01, 0.1575))"
   ]
  },
  {
   "cell_type": "code",
   "execution_count": 6,
   "metadata": {
    "executionInfo": {
     "elapsed": 98,
     "status": "ok",
     "timestamp": 1673741076300,
     "user": {
      "displayName": "Vispi Karkaria",
      "userId": "14399196734797359309"
     },
     "user_tz": 360
    },
    "id": "B7gbYuaGmJBD"
   },
   "outputs": [],
   "source": [
    "## Defining optimizer \n",
    "res = minimize(fun, x, method='SLSQP', bounds=bnds,\n",
    "               constraints=cons)"
   ]
  },
  {
   "cell_type": "code",
   "execution_count": 7,
   "metadata": {
    "colab": {
     "base_uri": "https://localhost:8080/"
    },
    "executionInfo": {
     "elapsed": 1,
     "status": "ok",
     "timestamp": 1673741082451,
     "user": {
      "displayName": "Vispi Karkaria",
      "userId": "14399196734797359309"
     },
     "user_tz": 360
    },
    "id": "eHgTaWVimMh5",
    "outputId": "dbb39e78-2d05-4c02-85a5-0bb90472c2c9"
   },
   "outputs": [
    {
     "name": "stdout",
     "output_type": "stream",
     "text": [
      "22460824.135177135\n"
     ]
    }
   ],
   "source": [
    "res.x\n",
    "\n",
    "print(cons[0]['fun'](res.x))"
   ]
  },
  {
   "cell_type": "code",
   "execution_count": 8,
   "metadata": {
    "executionInfo": {
     "elapsed": 110,
     "status": "ok",
     "timestamp": 1673740956315,
     "user": {
      "displayName": "Vispi Karkaria",
      "userId": "14399196734797359309"
     },
     "user_tz": 360
    },
    "id": "ZtTKAL21rhnU"
   },
   "outputs": [],
   "source": [
    "x = np.linspace(0, 0.25, 50)\n",
    "y = np.linspace(0, 0.25, 50)\n",
    "\n",
    "X, Y = np.meshgrid(x, y)\n",
    "Z = fun([X, Y])"
   ]
  },
  {
   "cell_type": "code",
   "execution_count": 14,
   "metadata": {
    "colab": {
     "base_uri": "https://localhost:8080/",
     "height": 700
    },
    "executionInfo": {
     "elapsed": 682,
     "status": "ok",
     "timestamp": 1673740957594,
     "user": {
      "displayName": "Vispi Karkaria",
      "userId": "14399196734797359309"
     },
     "user_tz": 360
    },
    "id": "vI3V_Ow2q_8E",
    "outputId": "451f37f6-1ce5-47d7-da23-5bb339d1667a"
   },
   "outputs": [
    {
     "name": "stderr",
     "output_type": "stream",
     "text": [
      "/Users/vispikarkaria/opt/anaconda3/envs/py33/lib/python3.7/site-packages/ipykernel_launcher.py:7: RuntimeWarning: divide by zero encountered in true_divide\n",
      "  import sys\n",
      "/Users/vispikarkaria/opt/anaconda3/envs/py33/lib/python3.7/site-packages/ipykernel_launcher.py:9: RuntimeWarning: divide by zero encountered in true_divide\n",
      "  if __name__ == \"__main__\":\n"
     ]
    },
    {
     "data": {
      "image/png": "[encoded data removed]",
      "text/plain": [
       "<Figure size 2160x720 with 2 Axes>"
      ]
     },
     "metadata": {
      "needs_background": "light"
     },
     "output_type": "display_data"
    }
   ],
   "source": [
    "# Visualization \n",
    "# Plotting the constraint g1\n",
    "fig, ax = plt.subplots(figsize=(30, 10))\n",
    "\n",
    "#Plotting the constraint g1\n",
    "x = np.linspace(0, 0.25, 1000)\n",
    "ax.plot(x, 10*1e6/(2*3.1415*x*248*1e6), color='blue')\n",
    "#Plotting the constraint g2\n",
    "ax.plot(x, (10*1e6*4*5**2/(3.1415**3*207*1e9*x))**(1/3), color='green')\n",
    "plt.ylim(0, 0.25)\n",
    "plt.xlim(0, 0.1)\n",
    "\n",
    "##Plotting contour\n",
    "contours = plt.contour(X, Y, Z, 3, colors='black')\n",
    "plt.clabel(contours, inline=True, fontsize=8)\n",
    "\n",
    "plt.imshow(Z, extent=[0, 0.25, 0, 0.25], origin='lower',\n",
    "           cmap='RdGy', alpha=0.5)\n",
    "plt.colorbar()\n",
    "\n",
    "## Plotting optimal point\n",
    "plt.plot(res.x[0], res.x[1], marker=\"o\", markersize=20, markeredgecolor=\"red\", markerfacecolor=\"green\")\n",
    "plt.show()\n"
   ]
  }
 ],
 "metadata": {
  "colab": {
   "authorship_tag": "ABX9TyMLCFRhfv4DWa3rTczHQ3/y",
   "provenance": []
  },
  "kernelspec": {
   "display_name": "Python 3",
   "language": "python",
   "name": "python3"
  },
  "language_info": {
   "codemirror_mode": {
    "name": "ipython",
    "version": 3
   },
   "file_extension": ".py",
   "mimetype": "text/x-python",
   "name": "python",
   "nbconvert_exporter": "python",
   "pygments_lexer": "ipython3",
   "version": "3.12.9"
  }
 },
 "nbformat": 4,
 "nbformat_minor": 0
}
